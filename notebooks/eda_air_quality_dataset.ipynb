{
 "cells": [
  {
   "cell_type": "code",
   "execution_count": 27,
   "metadata": {},
   "outputs": [],
   "source": [
    "import pandas as pd\n",
    "import numpy as np"
   ]
  },
  {
   "cell_type": "code",
   "execution_count": 2,
   "metadata": {},
   "outputs": [
    {
     "name": "stdout",
     "output_type": "stream",
     "text": [
      "air_quality_country.csv\r\n",
      "countries.geo.json\r\n",
      "F00007762-WV6_Data_R_v20180912.zip\r\n",
      "lat_lon_counties.csv\r\n",
      "www.worldvaluessurvey.org-WVSDocumentationWV6.jsp\r\n"
     ]
    }
   ],
   "source": [
    "!ls ../data/"
   ]
  },
  {
   "cell_type": "markdown",
   "metadata": {},
   "source": [
    "## Countries list"
   ]
  },
  {
   "cell_type": "code",
   "execution_count": 49,
   "metadata": {},
   "outputs": [
    {
     "name": "stdout",
     "output_type": "stream",
     "text": [
      "180 ['Afghanistan', 'Angola', 'Albania', 'United Arab Emirates', 'Argentina', 'Armenia', 'Antarctica']\n"
     ]
    }
   ],
   "source": [
    "import json\n",
    "with open('../data/countries.geo.json') as f:\n",
    "    data = json.load(f)\n",
    "    \n",
    "all_countries = [d['properties']['name'] for d in data['features']]\n",
    "print(len(all_countries), all_countries[0:7])"
   ]
  },
  {
   "cell_type": "markdown",
   "metadata": {},
   "source": [
    "## Air quality data"
   ]
  },
  {
   "cell_type": "code",
   "execution_count": 52,
   "metadata": {
    "scrolled": true
   },
   "outputs": [
    {
     "name": "stdout",
     "output_type": "stream",
     "text": [
      "(2340, 11)\n",
      "195 countries\n"
     ]
    },
    {
     "data": {
      "text/html": [
       "<div>\n",
       "<style scoped>\n",
       "    .dataframe tbody tr th:only-of-type {\n",
       "        vertical-align: middle;\n",
       "    }\n",
       "\n",
       "    .dataframe tbody tr th {\n",
       "        vertical-align: top;\n",
       "    }\n",
       "\n",
       "    .dataframe thead th {\n",
       "        text-align: right;\n",
       "    }\n",
       "</style>\n",
       "<table border=\"1\" class=\"dataframe\">\n",
       "  <thead>\n",
       "    <tr style=\"text-align: right;\">\n",
       "      <th></th>\n",
       "      <th>Exposure_Id</th>\n",
       "      <th>Type</th>\n",
       "      <th>ISO3</th>\n",
       "      <th>Region_Name</th>\n",
       "      <th>Exposure_Lower</th>\n",
       "      <th>Exposure_Mean</th>\n",
       "      <th>Exposure_Upper</th>\n",
       "      <th>Year</th>\n",
       "      <th>Pollutant</th>\n",
       "      <th>Pollutant_Name</th>\n",
       "      <th>Units</th>\n",
       "    </tr>\n",
       "  </thead>\n",
       "  <tbody>\n",
       "    <tr>\n",
       "      <th>0</th>\n",
       "      <td>5989</td>\n",
       "      <td>Afghanistan</td>\n",
       "      <td>AFG</td>\n",
       "      <td>Afghanistan</td>\n",
       "      <td>31.0</td>\n",
       "      <td>65.0</td>\n",
       "      <td>113.0</td>\n",
       "      <td>1990</td>\n",
       "      <td>pm25</td>\n",
       "      <td>PM25</td>\n",
       "      <td>µg/m3</td>\n",
       "    </tr>\n",
       "    <tr>\n",
       "      <th>1</th>\n",
       "      <td>5990</td>\n",
       "      <td>Afghanistan</td>\n",
       "      <td>AFG</td>\n",
       "      <td>Afghanistan</td>\n",
       "      <td>29.0</td>\n",
       "      <td>65.0</td>\n",
       "      <td>116.0</td>\n",
       "      <td>1995</td>\n",
       "      <td>pm25</td>\n",
       "      <td>PM25</td>\n",
       "      <td>µg/m3</td>\n",
       "    </tr>\n",
       "    <tr>\n",
       "      <th>2</th>\n",
       "      <td>5991</td>\n",
       "      <td>Afghanistan</td>\n",
       "      <td>AFG</td>\n",
       "      <td>Afghanistan</td>\n",
       "      <td>28.0</td>\n",
       "      <td>65.0</td>\n",
       "      <td>116.0</td>\n",
       "      <td>2000</td>\n",
       "      <td>pm25</td>\n",
       "      <td>PM25</td>\n",
       "      <td>µg/m3</td>\n",
       "    </tr>\n",
       "    <tr>\n",
       "      <th>3</th>\n",
       "      <td>5992</td>\n",
       "      <td>Afghanistan</td>\n",
       "      <td>AFG</td>\n",
       "      <td>Afghanistan</td>\n",
       "      <td>27.0</td>\n",
       "      <td>65.0</td>\n",
       "      <td>121.0</td>\n",
       "      <td>2005</td>\n",
       "      <td>pm25</td>\n",
       "      <td>PM25</td>\n",
       "      <td>µg/m3</td>\n",
       "    </tr>\n",
       "    <tr>\n",
       "      <th>4</th>\n",
       "      <td>5993</td>\n",
       "      <td>Afghanistan</td>\n",
       "      <td>AFG</td>\n",
       "      <td>Afghanistan</td>\n",
       "      <td>30.0</td>\n",
       "      <td>65.0</td>\n",
       "      <td>119.0</td>\n",
       "      <td>2010</td>\n",
       "      <td>pm25</td>\n",
       "      <td>PM25</td>\n",
       "      <td>µg/m3</td>\n",
       "    </tr>\n",
       "  </tbody>\n",
       "</table>\n",
       "</div>"
      ],
      "text/plain": [
       "   Exposure_Id         Type ISO3  Region_Name  Exposure_Lower  Exposure_Mean  \\\n",
       "0         5989  Afghanistan  AFG  Afghanistan            31.0           65.0   \n",
       "1         5990  Afghanistan  AFG  Afghanistan            29.0           65.0   \n",
       "2         5991  Afghanistan  AFG  Afghanistan            28.0           65.0   \n",
       "3         5992  Afghanistan  AFG  Afghanistan            27.0           65.0   \n",
       "4         5993  Afghanistan  AFG  Afghanistan            30.0           65.0   \n",
       "\n",
       "   Exposure_Upper  Year Pollutant Pollutant_Name  Units  \n",
       "0           113.0  1990      pm25           PM25  µg/m3  \n",
       "1           116.0  1995      pm25           PM25  µg/m3  \n",
       "2           116.0  2000      pm25           PM25  µg/m3  \n",
       "3           121.0  2005      pm25           PM25  µg/m3  \n",
       "4           119.0  2010      pm25           PM25  µg/m3  "
      ]
     },
     "execution_count": 52,
     "metadata": {},
     "output_type": "execute_result"
    }
   ],
   "source": [
    "df = pd.read_csv('../data/air_quality_country.csv', sep=',')\n",
    "print(df.shape)\n",
    "print('%d %s' % (len(df['Type'].unique()), 'countries'))\n",
    "df.head(5)"
   ]
  },
  {
   "cell_type": "code",
   "execution_count": 53,
   "metadata": {},
   "outputs": [
    {
     "data": {
      "text/plain": [
       "(97.0, 273.0, 55.197435897435895)"
      ]
     },
     "execution_count": 53,
     "metadata": {},
     "output_type": "execute_result"
    }
   ],
   "source": [
    "df_latest = df[df.Year==2015]\n",
    "max(df_latest.Exposure_Mean), max(df_latest.Exposure_Upper), np.mean(df_latest.Exposure_Upper)"
   ]
  },
  {
   "cell_type": "code",
   "execution_count": 58,
   "metadata": {},
   "outputs": [],
   "source": [
    "import seaborn as sns\n",
    "import matplotlib.pyplot as plt"
   ]
  },
  {
   "cell_type": "code",
   "execution_count": 30,
   "metadata": {},
   "outputs": [],
   "source": [
    "%matplotlib inline"
   ]
  },
  {
   "cell_type": "code",
   "execution_count": 59,
   "metadata": {},
   "outputs": [
    {
     "data": {
      "text/plain": [
       "<matplotlib.legend.Legend at 0x7ff1c99dc518>"
      ]
     },
     "execution_count": 59,
     "metadata": {},
     "output_type": "execute_result"
    },
    {
     "data": {
      "image/png": "[encoded data removed]",
      "text/plain": [
       "<Figure size 432x288 with 1 Axes>"
      ]
     },
     "metadata": {
      "needs_background": "light"
     },
     "output_type": "display_data"
    }
   ],
   "source": [
    "sns.distplot(df_latest.Exposure_Mean, label='hist_mean')\n",
    "sns.distplot(df_latest.Exposure_Upper, label='hist_upper')\n",
    "plt.legend()"
   ]
  },
  {
   "cell_type": "markdown",
   "metadata": {},
   "source": [
    "## Countries consistency between datasets"
   ]
  },
  {
   "cell_type": "code",
   "execution_count": 66,
   "metadata": {},
   "outputs": [
    {
     "data": {
      "text/plain": [
       "34"
      ]
     },
     "execution_count": 66,
     "metadata": {},
     "output_type": "execute_result"
    }
   ],
   "source": [
    "len(set(df_latest['Type'].unique())-set(all_countries))"
   ]
  },
  {
   "cell_type": "code",
   "execution_count": 68,
   "metadata": {
    "scrolled": true
   },
   "outputs": [
    {
     "data": {
      "text/plain": [
       "{'American Samoa',\n",
       " 'Andorra',\n",
       " 'Antigua and Barbuda',\n",
       " 'Bahrain',\n",
       " 'Barbados',\n",
       " 'Cape Verde',\n",
       " 'Comoros',\n",
       " 'Congo',\n",
       " \"Cote d'Ivoire\",\n",
       " 'Dominica',\n",
       " 'Federated States of Micronesia',\n",
       " 'Grenada',\n",
       " 'Guam',\n",
       " 'Guinea-Bissau',\n",
       " 'Kiribati',\n",
       " 'Maldives',\n",
       " 'Marshall Islands',\n",
       " 'Mauritius',\n",
       " 'Northern Mariana Islands',\n",
       " 'Palestine',\n",
       " 'Russian Federation',\n",
       " 'Saint Lucia',\n",
       " 'Saint Vincent and the Grenadines',\n",
       " 'Samoa',\n",
       " 'Sao Tome and Principe',\n",
       " 'Serbia',\n",
       " 'Seychelles',\n",
       " 'Singapore',\n",
       " 'Tanzania',\n",
       " 'The Gambia',\n",
       " 'Timor-Leste',\n",
       " 'Tonga',\n",
       " 'United States',\n",
       " 'Virgin Islands U.S.'}"
      ]
     },
     "execution_count": 68,
     "metadata": {},
     "output_type": "execute_result"
    }
   ],
   "source": [
    "set(df_latest['Type'].unique())-set(all_countries)"
   ]
  },
  {
   "cell_type": "code",
   "execution_count": 73,
   "metadata": {},
   "outputs": [
    {
     "data": {
      "text/plain": [
       "19"
      ]
     },
     "execution_count": 73,
     "metadata": {},
     "output_type": "execute_result"
    }
   ],
   "source": [
    "len(set(all_countries)-set(df_latest['Type'].unique()))"
   ]
  },
  {
   "cell_type": "code",
   "execution_count": 69,
   "metadata": {},
   "outputs": [
    {
     "data": {
      "text/plain": [
       "{'Antarctica',\n",
       " 'East Timor',\n",
       " 'Falkland Islands',\n",
       " 'French Guiana',\n",
       " 'French Southern and Antarctic Lands',\n",
       " 'Gambia',\n",
       " 'Guinea Bissau',\n",
       " 'Ivory Coast',\n",
       " 'Kosovo',\n",
       " 'New Caledonia',\n",
       " 'Northern Cyprus',\n",
       " 'Republic of Serbia',\n",
       " 'Republic of the Congo',\n",
       " 'Russia',\n",
       " 'Somaliland',\n",
       " 'United Republic of Tanzania',\n",
       " 'United States of America',\n",
       " 'West Bank',\n",
       " 'Western Sahara'}"
      ]
     },
     "execution_count": 69,
     "metadata": {},
     "output_type": "execute_result"
    }
   ],
   "source": [
    "set(all_countries)-set(df_latest['Type'].unique())"
   ]
  },
  {
   "cell_type": "code",
   "execution_count": 70,
   "metadata": {},
   "outputs": [
    {
     "name": "stderr",
     "output_type": "stream",
     "text": [
      "/usr/local/lib/python3.7/dist-packages/ipykernel_launcher.py:16: SettingWithCopyWarning: \n",
      "A value is trying to be set on a copy of a slice from a DataFrame.\n",
      "Try using .loc[row_indexer,col_indexer] = value instead\n",
      "\n",
      "See the caveats in the documentation: http://pandas.pydata.org/pandas-docs/stable/indexing.html#indexing-view-versus-copy\n",
      "  app.launch_new_instance()\n"
     ]
    }
   ],
   "source": [
    "mapping = {\n",
    "    'Guinea-Bissau': 'Guinea Bissau',\n",
    "    \"Cote d'Ivoire\": 'Ivory Coast',\n",
    "    'Serbia': 'Republic of Serbia',\n",
    "    'Congo': 'Republic of the Congo',\n",
    "    'Russian Federation': 'Russia',\n",
    "    'Tanzania': 'United Republic of Tanzania',\n",
    "    'United States': 'United States of America',   \n",
    "}\n",
    "def replace_country_name(x):\n",
    "    \"\"\" \"\"\"\n",
    "    if x in mapping.keys():\n",
    "        return mapping[x]\n",
    "    return x\n",
    "\n",
    "df_latest['Country'] = df_latest['Type'].apply(replace_country_name)"
   ]
  },
  {
   "cell_type": "code",
   "execution_count": 74,
   "metadata": {},
   "outputs": [
    {
     "data": {
      "text/plain": [
       "12"
      ]
     },
     "execution_count": 74,
     "metadata": {},
     "output_type": "execute_result"
    }
   ],
   "source": [
    "len(set(all_countries)-set(df_latest['Country'].unique()))"
   ]
  },
  {
   "cell_type": "markdown",
   "metadata": {},
   "source": [
    "## Merge list of countries with Normalized Air quality estimate"
   ]
  },
  {
   "cell_type": "code",
   "execution_count": 83,
   "metadata": {
    "scrolled": true
   },
   "outputs": [],
   "source": [
    "df_final = pd.DataFrame(all_countries, columns=['Country']).merge(df_latest[['Country', 'Exposure_Mean']])\n",
    "scaler = np.max(df_latest['Exposure_Mean'])*1.05\n",
    "df_final['Exposure_Norm'] = (100*df_final['Exposure_Mean']/scaler).astype(int)"
   ]
  },
  {
   "cell_type": "code",
   "execution_count": 84,
   "metadata": {
    "scrolled": true
   },
   "outputs": [
    {
     "data": {
      "text/html": [
       "<div>\n",
       "<style scoped>\n",
       "    .dataframe tbody tr th:only-of-type {\n",
       "        vertical-align: middle;\n",
       "    }\n",
       "\n",
       "    .dataframe tbody tr th {\n",
       "        vertical-align: top;\n",
       "    }\n",
       "\n",
       "    .dataframe thead th {\n",
       "        text-align: right;\n",
       "    }\n",
       "</style>\n",
       "<table border=\"1\" class=\"dataframe\">\n",
       "  <thead>\n",
       "    <tr style=\"text-align: right;\">\n",
       "      <th></th>\n",
       "      <th>Country</th>\n",
       "      <th>Exposure_Mean</th>\n",
       "      <th>Exposure_Norm</th>\n",
       "    </tr>\n",
       "  </thead>\n",
       "  <tbody>\n",
       "    <tr>\n",
       "      <th>0</th>\n",
       "      <td>Afghanistan</td>\n",
       "      <td>61.0</td>\n",
       "      <td>59</td>\n",
       "    </tr>\n",
       "    <tr>\n",
       "      <th>1</th>\n",
       "      <td>Angola</td>\n",
       "      <td>33.0</td>\n",
       "      <td>32</td>\n",
       "    </tr>\n",
       "    <tr>\n",
       "      <th>2</th>\n",
       "      <td>Albania</td>\n",
       "      <td>20.0</td>\n",
       "      <td>19</td>\n",
       "    </tr>\n",
       "    <tr>\n",
       "      <th>3</th>\n",
       "      <td>United Arab Emirates</td>\n",
       "      <td>42.0</td>\n",
       "      <td>41</td>\n",
       "    </tr>\n",
       "    <tr>\n",
       "      <th>4</th>\n",
       "      <td>Argentina</td>\n",
       "      <td>15.0</td>\n",
       "      <td>14</td>\n",
       "    </tr>\n",
       "    <tr>\n",
       "      <th>5</th>\n",
       "      <td>Armenia</td>\n",
       "      <td>35.0</td>\n",
       "      <td>34</td>\n",
       "    </tr>\n",
       "    <tr>\n",
       "      <th>6</th>\n",
       "      <td>Australia</td>\n",
       "      <td>9.3</td>\n",
       "      <td>9</td>\n",
       "    </tr>\n",
       "    <tr>\n",
       "      <th>7</th>\n",
       "      <td>Austria</td>\n",
       "      <td>14.0</td>\n",
       "      <td>13</td>\n",
       "    </tr>\n",
       "    <tr>\n",
       "      <th>8</th>\n",
       "      <td>Azerbaijan</td>\n",
       "      <td>21.0</td>\n",
       "      <td>20</td>\n",
       "    </tr>\n",
       "    <tr>\n",
       "      <th>9</th>\n",
       "      <td>Burundi</td>\n",
       "      <td>38.0</td>\n",
       "      <td>37</td>\n",
       "    </tr>\n",
       "    <tr>\n",
       "      <th>10</th>\n",
       "      <td>Belgium</td>\n",
       "      <td>14.0</td>\n",
       "      <td>13</td>\n",
       "    </tr>\n",
       "    <tr>\n",
       "      <th>11</th>\n",
       "      <td>Benin</td>\n",
       "      <td>40.0</td>\n",
       "      <td>39</td>\n",
       "    </tr>\n",
       "    <tr>\n",
       "      <th>12</th>\n",
       "      <td>Burkina Faso</td>\n",
       "      <td>47.0</td>\n",
       "      <td>46</td>\n",
       "    </tr>\n",
       "    <tr>\n",
       "      <th>13</th>\n",
       "      <td>Bangladesh</td>\n",
       "      <td>67.0</td>\n",
       "      <td>65</td>\n",
       "    </tr>\n",
       "    <tr>\n",
       "      <th>14</th>\n",
       "      <td>Bulgaria</td>\n",
       "      <td>21.0</td>\n",
       "      <td>20</td>\n",
       "    </tr>\n",
       "    <tr>\n",
       "      <th>15</th>\n",
       "      <td>The Bahamas</td>\n",
       "      <td>19.0</td>\n",
       "      <td>18</td>\n",
       "    </tr>\n",
       "    <tr>\n",
       "      <th>16</th>\n",
       "      <td>Bosnia and Herzegovina</td>\n",
       "      <td>30.0</td>\n",
       "      <td>29</td>\n",
       "    </tr>\n",
       "    <tr>\n",
       "      <th>17</th>\n",
       "      <td>Belarus</td>\n",
       "      <td>20.0</td>\n",
       "      <td>19</td>\n",
       "    </tr>\n",
       "    <tr>\n",
       "      <th>18</th>\n",
       "      <td>Belize</td>\n",
       "      <td>25.0</td>\n",
       "      <td>24</td>\n",
       "    </tr>\n",
       "    <tr>\n",
       "      <th>19</th>\n",
       "      <td>Bermuda</td>\n",
       "      <td>12.0</td>\n",
       "      <td>11</td>\n",
       "    </tr>\n",
       "    <tr>\n",
       "      <th>20</th>\n",
       "      <td>Bolivia</td>\n",
       "      <td>22.0</td>\n",
       "      <td>21</td>\n",
       "    </tr>\n",
       "    <tr>\n",
       "      <th>21</th>\n",
       "      <td>Brazil</td>\n",
       "      <td>14.0</td>\n",
       "      <td>13</td>\n",
       "    </tr>\n",
       "    <tr>\n",
       "      <th>22</th>\n",
       "      <td>Brunei</td>\n",
       "      <td>6.5</td>\n",
       "      <td>6</td>\n",
       "    </tr>\n",
       "    <tr>\n",
       "      <th>23</th>\n",
       "      <td>Bhutan</td>\n",
       "      <td>40.0</td>\n",
       "      <td>39</td>\n",
       "    </tr>\n",
       "    <tr>\n",
       "      <th>24</th>\n",
       "      <td>Botswana</td>\n",
       "      <td>24.0</td>\n",
       "      <td>23</td>\n",
       "    </tr>\n",
       "    <tr>\n",
       "      <th>25</th>\n",
       "      <td>Central African Republic</td>\n",
       "      <td>58.0</td>\n",
       "      <td>56</td>\n",
       "    </tr>\n",
       "    <tr>\n",
       "      <th>26</th>\n",
       "      <td>Canada</td>\n",
       "      <td>7.2</td>\n",
       "      <td>7</td>\n",
       "    </tr>\n",
       "    <tr>\n",
       "      <th>27</th>\n",
       "      <td>Switzerland</td>\n",
       "      <td>11.0</td>\n",
       "      <td>10</td>\n",
       "    </tr>\n",
       "    <tr>\n",
       "      <th>28</th>\n",
       "      <td>Chile</td>\n",
       "      <td>23.0</td>\n",
       "      <td>22</td>\n",
       "    </tr>\n",
       "    <tr>\n",
       "      <th>29</th>\n",
       "      <td>China</td>\n",
       "      <td>59.0</td>\n",
       "      <td>57</td>\n",
       "    </tr>\n",
       "    <tr>\n",
       "      <th>...</th>\n",
       "      <td>...</td>\n",
       "      <td>...</td>\n",
       "      <td>...</td>\n",
       "    </tr>\n",
       "    <tr>\n",
       "      <th>138</th>\n",
       "      <td>Somalia</td>\n",
       "      <td>32.0</td>\n",
       "      <td>31</td>\n",
       "    </tr>\n",
       "    <tr>\n",
       "      <th>139</th>\n",
       "      <td>Republic of Serbia</td>\n",
       "      <td>27.0</td>\n",
       "      <td>26</td>\n",
       "    </tr>\n",
       "    <tr>\n",
       "      <th>140</th>\n",
       "      <td>Suriname</td>\n",
       "      <td>26.0</td>\n",
       "      <td>25</td>\n",
       "    </tr>\n",
       "    <tr>\n",
       "      <th>141</th>\n",
       "      <td>Slovakia</td>\n",
       "      <td>19.0</td>\n",
       "      <td>18</td>\n",
       "    </tr>\n",
       "    <tr>\n",
       "      <th>142</th>\n",
       "      <td>Slovenia</td>\n",
       "      <td>17.0</td>\n",
       "      <td>16</td>\n",
       "    </tr>\n",
       "    <tr>\n",
       "      <th>143</th>\n",
       "      <td>Sweden</td>\n",
       "      <td>6.3</td>\n",
       "      <td>6</td>\n",
       "    </tr>\n",
       "    <tr>\n",
       "      <th>144</th>\n",
       "      <td>Swaziland</td>\n",
       "      <td>18.0</td>\n",
       "      <td>17</td>\n",
       "    </tr>\n",
       "    <tr>\n",
       "      <th>145</th>\n",
       "      <td>Syria</td>\n",
       "      <td>44.0</td>\n",
       "      <td>43</td>\n",
       "    </tr>\n",
       "    <tr>\n",
       "      <th>146</th>\n",
       "      <td>Chad</td>\n",
       "      <td>69.0</td>\n",
       "      <td>67</td>\n",
       "    </tr>\n",
       "    <tr>\n",
       "      <th>147</th>\n",
       "      <td>Togo</td>\n",
       "      <td>38.0</td>\n",
       "      <td>37</td>\n",
       "    </tr>\n",
       "    <tr>\n",
       "      <th>148</th>\n",
       "      <td>Thailand</td>\n",
       "      <td>27.0</td>\n",
       "      <td>26</td>\n",
       "    </tr>\n",
       "    <tr>\n",
       "      <th>149</th>\n",
       "      <td>Tajikistan</td>\n",
       "      <td>48.0</td>\n",
       "      <td>47</td>\n",
       "    </tr>\n",
       "    <tr>\n",
       "      <th>150</th>\n",
       "      <td>Turkmenistan</td>\n",
       "      <td>23.0</td>\n",
       "      <td>22</td>\n",
       "    </tr>\n",
       "    <tr>\n",
       "      <th>151</th>\n",
       "      <td>Trinidad and Tobago</td>\n",
       "      <td>25.0</td>\n",
       "      <td>24</td>\n",
       "    </tr>\n",
       "    <tr>\n",
       "      <th>152</th>\n",
       "      <td>Tunisia</td>\n",
       "      <td>36.0</td>\n",
       "      <td>35</td>\n",
       "    </tr>\n",
       "    <tr>\n",
       "      <th>153</th>\n",
       "      <td>Turkey</td>\n",
       "      <td>45.0</td>\n",
       "      <td>44</td>\n",
       "    </tr>\n",
       "    <tr>\n",
       "      <th>154</th>\n",
       "      <td>Taiwan</td>\n",
       "      <td>25.0</td>\n",
       "      <td>24</td>\n",
       "    </tr>\n",
       "    <tr>\n",
       "      <th>155</th>\n",
       "      <td>United Republic of Tanzania</td>\n",
       "      <td>28.0</td>\n",
       "      <td>27</td>\n",
       "    </tr>\n",
       "    <tr>\n",
       "      <th>156</th>\n",
       "      <td>Uganda</td>\n",
       "      <td>49.0</td>\n",
       "      <td>48</td>\n",
       "    </tr>\n",
       "    <tr>\n",
       "      <th>157</th>\n",
       "      <td>Ukraine</td>\n",
       "      <td>21.0</td>\n",
       "      <td>20</td>\n",
       "    </tr>\n",
       "    <tr>\n",
       "      <th>158</th>\n",
       "      <td>Uruguay</td>\n",
       "      <td>9.7</td>\n",
       "      <td>9</td>\n",
       "    </tr>\n",
       "    <tr>\n",
       "      <th>159</th>\n",
       "      <td>United States of America</td>\n",
       "      <td>8.1</td>\n",
       "      <td>7</td>\n",
       "    </tr>\n",
       "    <tr>\n",
       "      <th>160</th>\n",
       "      <td>Uzbekistan</td>\n",
       "      <td>30.0</td>\n",
       "      <td>29</td>\n",
       "    </tr>\n",
       "    <tr>\n",
       "      <th>161</th>\n",
       "      <td>Venezuela</td>\n",
       "      <td>18.0</td>\n",
       "      <td>17</td>\n",
       "    </tr>\n",
       "    <tr>\n",
       "      <th>162</th>\n",
       "      <td>Vietnam</td>\n",
       "      <td>32.0</td>\n",
       "      <td>31</td>\n",
       "    </tr>\n",
       "    <tr>\n",
       "      <th>163</th>\n",
       "      <td>Vanuatu</td>\n",
       "      <td>12.0</td>\n",
       "      <td>11</td>\n",
       "    </tr>\n",
       "    <tr>\n",
       "      <th>164</th>\n",
       "      <td>Yemen</td>\n",
       "      <td>54.0</td>\n",
       "      <td>53</td>\n",
       "    </tr>\n",
       "    <tr>\n",
       "      <th>165</th>\n",
       "      <td>South Africa</td>\n",
       "      <td>26.0</td>\n",
       "      <td>25</td>\n",
       "    </tr>\n",
       "    <tr>\n",
       "      <th>166</th>\n",
       "      <td>Zambia</td>\n",
       "      <td>28.0</td>\n",
       "      <td>27</td>\n",
       "    </tr>\n",
       "    <tr>\n",
       "      <th>167</th>\n",
       "      <td>Zimbabwe</td>\n",
       "      <td>22.0</td>\n",
       "      <td>21</td>\n",
       "    </tr>\n",
       "  </tbody>\n",
       "</table>\n",
       "<p>168 rows × 3 columns</p>\n",
       "</div>"
      ],
      "text/plain": [
       "                         Country  Exposure_Mean  Exposure_Norm\n",
       "0                    Afghanistan           61.0             59\n",
       "1                         Angola           33.0             32\n",
       "2                        Albania           20.0             19\n",
       "3           United Arab Emirates           42.0             41\n",
       "4                      Argentina           15.0             14\n",
       "5                        Armenia           35.0             34\n",
       "6                      Australia            9.3              9\n",
       "7                        Austria           14.0             13\n",
       "8                     Azerbaijan           21.0             20\n",
       "9                        Burundi           38.0             37\n",
       "10                       Belgium           14.0             13\n",
       "11                         Benin           40.0             39\n",
       "12                  Burkina Faso           47.0             46\n",
       "13                    Bangladesh           67.0             65\n",
       "14                      Bulgaria           21.0             20\n",
       "15                   The Bahamas           19.0             18\n",
       "16        Bosnia and Herzegovina           30.0             29\n",
       "17                       Belarus           20.0             19\n",
       "18                        Belize           25.0             24\n",
       "19                       Bermuda           12.0             11\n",
       "20                       Bolivia           22.0             21\n",
       "21                        Brazil           14.0             13\n",
       "22                        Brunei            6.5              6\n",
       "23                        Bhutan           40.0             39\n",
       "24                      Botswana           24.0             23\n",
       "25      Central African Republic           58.0             56\n",
       "26                        Canada            7.2              7\n",
       "27                   Switzerland           11.0             10\n",
       "28                         Chile           23.0             22\n",
       "29                         China           59.0             57\n",
       "..                           ...            ...            ...\n",
       "138                      Somalia           32.0             31\n",
       "139           Republic of Serbia           27.0             26\n",
       "140                     Suriname           26.0             25\n",
       "141                     Slovakia           19.0             18\n",
       "142                     Slovenia           17.0             16\n",
       "143                       Sweden            6.3              6\n",
       "144                    Swaziland           18.0             17\n",
       "145                        Syria           44.0             43\n",
       "146                         Chad           69.0             67\n",
       "147                         Togo           38.0             37\n",
       "148                     Thailand           27.0             26\n",
       "149                   Tajikistan           48.0             47\n",
       "150                 Turkmenistan           23.0             22\n",
       "151          Trinidad and Tobago           25.0             24\n",
       "152                      Tunisia           36.0             35\n",
       "153                       Turkey           45.0             44\n",
       "154                       Taiwan           25.0             24\n",
       "155  United Republic of Tanzania           28.0             27\n",
       "156                       Uganda           49.0             48\n",
       "157                      Ukraine           21.0             20\n",
       "158                      Uruguay            9.7              9\n",
       "159     United States of America            8.1              7\n",
       "160                   Uzbekistan           30.0             29\n",
       "161                    Venezuela           18.0             17\n",
       "162                      Vietnam           32.0             31\n",
       "163                      Vanuatu           12.0             11\n",
       "164                        Yemen           54.0             53\n",
       "165                 South Africa           26.0             25\n",
       "166                       Zambia           28.0             27\n",
       "167                     Zimbabwe           22.0             21\n",
       "\n",
       "[168 rows x 3 columns]"
      ]
     },
     "execution_count": 84,
     "metadata": {},
     "output_type": "execute_result"
    }
   ],
   "source": [
    "df_final"
   ]
  },
  {
   "cell_type": "code",
   "execution_count": 85,
   "metadata": {},
   "outputs": [],
   "source": [
    "N_BINS = 10\n",
    "df_final['bin'] = (df_final['Exposure_Norm']/N_BINS).astype(int)"
   ]
  },
  {
   "cell_type": "code",
   "execution_count": 90,
   "metadata": {},
   "outputs": [],
   "source": [
    "#partitions = df_final.groupby('bin')[0].apply(list).to_json()\n",
    "partitions = df_final.groupby('bin')['Country'].apply(list)"
   ]
  },
  {
   "cell_type": "code",
   "execution_count": 91,
   "metadata": {},
   "outputs": [
    {
     "data": {
      "text/plain": [
       "bin\n",
       "0    [Australia, Brunei, Canada, Spain, Estonia, Fi...\n",
       "1    [Albania, Argentina, Austria, Belgium, The Bah...\n",
       "2    [Azerbaijan, Bulgaria, Bosnia and Herzegovina,...\n",
       "3    [Angola, Armenia, Burundi, Benin, Bhutan, Alge...\n",
       "4    [United Arab Emirates, Burkina Faso, Democrati...\n",
       "5    [Afghanistan, Central African Republic, China,...\n",
       "6                     [Bangladesh, Iraq, Kuwait, Chad]\n",
       "7                                  [Cameroon, Nigeria]\n",
       "8                                [Egypt, India, Niger]\n",
       "9                         [Nepal, Qatar, Saudi Arabia]\n",
       "Name: Country, dtype: object"
      ]
     },
     "execution_count": 91,
     "metadata": {},
     "output_type": "execute_result"
    }
   ],
   "source": [
    "partitions"
   ]
  },
  {
   "cell_type": "code",
   "execution_count": null,
   "metadata": {},
   "outputs": [],
   "source": []
  },
  {
   "cell_type": "markdown",
   "metadata": {},
   "source": [
    "## Misc: seaborn color palette"
   ]
  },
  {
   "cell_type": "code",
   "execution_count": 176,
   "metadata": {},
   "outputs": [
    {
     "data": {
      "image/png": "[encoded data removed]",
      "text/plain": [
       "<Figure size 1296x72 with 1 Axes>"
      ]
     },
     "metadata": {
      "needs_background": "light"
     },
     "output_type": "display_data"
    }
   ],
   "source": [
    "## asymetrical diverging palette thanks to ofst\n",
    "ofst = 8\n",
    "palette = sns.diverging_palette(210, 10, 90, n=N_BINS+ofst)\n",
    "sns.palplot(palette)"
   ]
  },
  {
   "cell_type": "code",
   "execution_count": 177,
   "metadata": {},
   "outputs": [
    {
     "name": "stdout",
     "output_type": "stream",
     "text": [
      "['#e8f6f8', '#fce5e7', '#f9cdd2', '#f7b4bb', '#f49ca6', '#f1848f', '#ef6c7a', '#ec5363', '#e93b4e', '#e72338']\n"
     ]
    }
   ],
   "source": [
    "print(palette.as_hex()[ofst:])"
   ]
  },
  {
   "cell_type": "code",
   "execution_count": null,
   "metadata": {},
   "outputs": [],
   "source": []
  }
 ],
 "metadata": {
  "kernelspec": {
   "display_name": "Python 3",
   "language": "python",
   "name": "python3"
  },
  "language_info": {
   "codemirror_mode": {
    "name": "ipython",
    "version": 3
   },
   "file_extension": ".py",
   "mimetype": "text/x-python",
   "name": "python",
   "nbconvert_exporter": "python",
   "pygments_lexer": "ipython3",
   "version": "3.7.3"
  }
 },
 "nbformat": 4,
 "nbformat_minor": 2
}
